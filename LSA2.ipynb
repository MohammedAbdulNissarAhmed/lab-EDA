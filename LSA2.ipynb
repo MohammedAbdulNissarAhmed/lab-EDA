{
 "metadata": {
  "name": "",
  "signature": "sha256:0ed90deb9222ab9fbfbfe77a05e03adba79afd45f58a37f5f73a3e0c80bfc51f"
 },
 "nbformat": 3,
 "nbformat_minor": 0,
 "worksheets": [
  {
   "cells": [
    {
     "cell_type": "code",
     "collapsed": false,
     "input": [
      "from sklearn.datasets import fetch_20newsgroups\n",
      "categories = ['rec.sport.baseball']\n",
      "dataset = fetch_20newsgroups(subset='all',shuffle=True, random_state=42, categories=categories)\n",
      "corpus = dataset.data"
     ],
     "language": "python",
     "metadata": {},
     "outputs": [],
     "prompt_number": 2
    },
    {
     "cell_type": "code",
     "collapsed": false,
     "input": [
      "from bs4 import BeautifulSoup\n",
      "import nltk\n",
      "from nltk.corpus import stopwords\n",
      "from sklearn.feature_extraction.text import TfidfVectorizer\n",
      "from sklearn.decomposition import TruncatedSVD"
     ],
     "language": "python",
     "metadata": {},
     "outputs": [],
     "prompt_number": 3
    },
    {
     "cell_type": "code",
     "collapsed": false,
     "input": [
      "nltk.download('stopwords')"
     ],
     "language": "python",
     "metadata": {},
     "outputs": [
      {
       "output_type": "stream",
       "stream": "stdout",
       "text": [
        "[nltk_data] Downloading package stopwords to\n",
        "[nltk_data]     C:\\Users\\NISSAR\\AppData\\Roaming\\nltk_data...\n",
        "[nltk_data]   Unzipping corpora\\stopwords.zip."
       ]
      },
      {
       "output_type": "stream",
       "stream": "stdout",
       "text": [
        "\n"
       ]
      },
      {
       "metadata": {},
       "output_type": "pyout",
       "prompt_number": 4,
       "text": [
        "True"
       ]
      }
     ],
     "prompt_number": 4
    },
    {
     "cell_type": "code",
     "collapsed": false,
     "input": [
      "corpus[0]"
     ],
     "language": "python",
     "metadata": {},
     "outputs": [
      {
       "metadata": {},
       "output_type": "pyout",
       "prompt_number": 5,
       "text": [
        "u\"From: writingctr@leo.bsuvc.bsu.edu\\nSubject: Re: CUB fever.\\nOrganization: Ball State University, Muncie, In - Univ. Computing Svc's\\nLines: 21\\n\\n\\nIn article <kingoz.735285670@camelot>, kingoz@camelot.bradley.edu (Orin Roth) writes:\\n> \\n>    CUB fever is hitting me again. I'm beginning to think they have a \\n>    chance this year. (what the heck am i thinking?)\\n>    Sorry. Just a moment of incompetence.\\n>    I'll be ok. Really. \\n>    Orin.\\n>    Bradley U.\\n> \\n> --\\n> I'm really a jester in disguise!                                   \\nI hear ya!  Then again, we must remember that we are indeed Cub fans, and\\nthat the Cubs will eventually blow it.  After all, the Cubs are the easiest\\nteam in the National League to root for.  No Pressure.  You know they will\\nlose eventually.  Oh well, I suppose we must have faith.  After all, they\\ndo look pretty good, and they don't even have Sandberg back yet.  \\n\\nCUBS IN '93!!!!!\\n\\nCHA\\n\""
       ]
      }
     ],
     "prompt_number": 5
    },
    {
     "cell_type": "code",
     "collapsed": false,
     "input": [
      "stopset = set(stopwords.words('english'))\n",
      "stopset.update(['lt','p','/p','br','amp','quot','field','font','normal','span','0px','rgb','style','51', \n",
      "                'spacing','text','helvetica','size','family', 'space', 'arial', 'height', 'indent', 'letter'\n",
      "                'line','none','sans','serif','transform','line','variant','weight','times', 'new','strong', 'video', 'title'\n",
      "                'white','word','letter', 'roman','0pt','16','color','12','14','21', 'neue', 'apple', 'class', 'nntp','re', 'cs', '00 00', 'gmt','000 000 000', '000 006', 'jewish', '000 000 74', '000 000 next', '000 000 assuming', '000 000 067', 'al', '10', '000 000', 'com', '00 00 000', 'aix', '00 00 00', '00', '00 00 01', 'ca', 'sox', 'morris', 've'  ])"
     ],
     "language": "python",
     "metadata": {},
     "outputs": [],
     "prompt_number": 52
    },
    {
     "cell_type": "code",
     "collapsed": false,
     "input": [
      "#before\n",
      "corpus[0]"
     ],
     "language": "python",
     "metadata": {},
     "outputs": [
      {
       "metadata": {},
       "output_type": "pyout",
       "prompt_number": 53,
       "text": [
        "u\"From: writingctr@leo.bsuvc.bsu.edu\\nSubject: Re: CUB fever.\\nOrganization: Ball State University, Muncie, In - Univ. Computing Svc's\\nLines: 21\\n\\n\\nIn article <kingoz.735285670@camelot>, kingoz@camelot.bradley.edu (Orin Roth) writes:\\n> \\n>    CUB fever is hitting me again. I'm beginning to think they have a \\n>    chance this year. (what the heck am i thinking?)\\n>    Sorry. Just a moment of incompetence.\\n>    I'll be ok. Really. \\n>    Orin.\\n>    Bradley U.\\n> \\n> --\\n> I'm really a jester in disguise!                                   \\nI hear ya!  Then again, we must remember that we are indeed Cub fans, and\\nthat the Cubs will eventually blow it.  After all, the Cubs are the easiest\\nteam in the National League to root for.  No Pressure.  You know they will\\nlose eventually.  Oh well, I suppose we must have faith.  After all, they\\ndo look pretty good, and they don't even have Sandberg back yet.  \\n\\nCUBS IN '93!!!!!\\n\\nCHA\\n\""
       ]
      }
     ],
     "prompt_number": 53
    },
    {
     "cell_type": "code",
     "collapsed": false,
     "input": [
      "vectorizer = TfidfVectorizer(stop_words=stopset,\n",
      "                                 use_idf=True, ngram_range=(1, 3))\n",
      "X = vectorizer.fit_transform(corpus)"
     ],
     "language": "python",
     "metadata": {},
     "outputs": [],
     "prompt_number": 54
    },
    {
     "cell_type": "code",
     "collapsed": false,
     "input": [
      "X[0]"
     ],
     "language": "python",
     "metadata": {},
     "outputs": [
      {
       "metadata": {},
       "output_type": "pyout",
       "prompt_number": 55,
       "text": [
        "<1x188278 sparse matrix of type '<type 'numpy.float64'>'\n",
        "\twith 232 stored elements in Compressed Sparse Row format>"
       ]
      }
     ],
     "prompt_number": 55
    },
    {
     "cell_type": "code",
     "collapsed": false,
     "input": [
      "#After\n",
      "print X[0]"
     ],
     "language": "python",
     "metadata": {},
     "outputs": [
      {
       "output_type": "stream",
       "stream": "stdout",
       "text": [
        "  (0, 50181)\t0.0735747611796\n",
        "  (0, 187543)\t0.0735747611796\n",
        "  (0, 28361)\t0.0735747611796\n",
        "  (0, 144791)\t0.0735747611796\n",
        "  (0, 63244)\t0.0735747611796\n",
        "  (0, 76739)\t0.0735747611796\n",
        "  (0, 131956)\t0.0735747611796\n",
        "  (0, 102385)\t0.0735747611796\n",
        "  (0, 65631)\t0.0735747611796\n",
        "  (0, 113273)\t0.0735747611796\n",
        "  (0, 161395)\t0.0735747611796\n",
        "  (0, 179152)\t0.0735747611796\n",
        "  (0, 118403)\t0.0735747611796\n",
        "  (0, 63380)\t0.0735747611796\n",
        "  (0, 102880)\t0.0735747611796\n",
        "  (0, 94448)\t0.0735747611796\n",
        "  (0, 131871)\t0.0735747611796\n",
        "  (0, 141947)\t0.0735747611796\n",
        "  (0, 97064)\t0.0735747611796\n",
        "  (0, 113915)\t0.0735747611796\n",
        "  (0, 163766)\t0.0735747611796\n",
        "  (0, 58439)\t0.0735747611796\n",
        "  (0, 50221)\t0.0735747611796\n",
        "  (0, 35148)\t0.0735747611796\n",
        "  (0, 63370)\t0.0735747611796\n",
        "  :\t:\n",
        "  (0, 184101)\t0.0155731686153\n",
        "  (0, 142183)\t0.0552896474024\n",
        "  (0, 121070)\t0.110579294805\n",
        "  (0, 36967)\t0.0991574063989\n",
        "  (0, 39963)\t0.104707636787\n",
        "  (0, 16059)\t0.0735747611796\n",
        "  (0, 93828)\t0.110579294805\n",
        "  (0, 25172)\t0.0161075899983\n",
        "  (0, 99749)\t0.0102668409887\n",
        "  (0, 161984)\t0.0607901693813\n",
        "  (0, 46924)\t0.0388651463176\n",
        "  (0, 173442)\t0.0392111155954\n",
        "  (0, 113071)\t0.0607901693813\n",
        "  (0, 173477)\t0.0179682026906\n",
        "  (0, 157058)\t0.0372920207012\n",
        "  (0, 28883)\t0.0306653839646\n",
        "  (0, 120458)\t0.0102874991259\n",
        "  (0, 67179)\t0.124726589995\n",
        "  (0, 50103)\t0.161149565358\n",
        "  (0, 159891)\t0.0102051163067\n",
        "  (0, 58944)\t0.0237695577501\n",
        "  (0, 38210)\t0.0506000665344\n",
        "  (0, 38220)\t0.0506000665344\n",
        "  (0, 98090)\t0.0495787031995\n",
        "  (0, 185037)\t0.0735747611796\n"
       ]
      }
     ],
     "prompt_number": 56
    },
    {
     "cell_type": "code",
     "collapsed": false,
     "input": [
      "X.shape"
     ],
     "language": "python",
     "metadata": {},
     "outputs": [
      {
       "metadata": {},
       "output_type": "pyout",
       "prompt_number": 57,
       "text": [
        "(994, 188278)"
       ]
      }
     ],
     "prompt_number": 57
    },
    {
     "cell_type": "code",
     "collapsed": false,
     "input": [
      "lsa = TruncatedSVD(n_components=27, n_iter=100)\n",
      "lsa.fit(X)"
     ],
     "language": "python",
     "metadata": {},
     "outputs": [
      {
       "metadata": {},
       "output_type": "pyout",
       "prompt_number": 58,
       "text": [
        "TruncatedSVD(algorithm='randomized', n_components=27, n_iter=100,\n",
        "       random_state=None, tol=0.0)"
       ]
      }
     ],
     "prompt_number": 58
    },
    {
     "cell_type": "code",
     "collapsed": false,
     "input": [
      "lsa.components_[0]"
     ],
     "language": "python",
     "metadata": {},
     "outputs": [
      {
       "metadata": {},
       "output_type": "pyout",
       "prompt_number": 59,
       "text": [
        "array([ 0.01504569,  0.00188429,  0.00040087, ...,  0.00110939,\n",
        "        0.00110939,  0.00110939])"
       ]
      }
     ],
     "prompt_number": 59
    },
    {
     "cell_type": "code",
     "collapsed": false,
     "input": [
      "terms = vectorizer.get_feature_names()\n",
      "for i, comp in enumerate(lsa.components_): \n",
      "    termsInComp = zip (terms,comp)\n",
      "    sortedTerms =  sorted(termsInComp, key=lambda x: x[1], reverse=True) [:10]\n",
      "    print \"Concept %d:\" % i\n",
      "    for term in sortedTerms:\n",
      "        print term[0]\n",
      "    print \" \""
     ],
     "language": "python",
     "metadata": {},
     "outputs": [
      {
       "output_type": "stream",
       "stream": "stdout",
       "text": [
        "Concept 0:\n",
        "edu\n",
        "year\n",
        "writes\n",
        "team\n",
        "would\n",
        "game\n",
        "article\n",
        "baseball\n",
        "players\n",
        "games\n",
        " \n",
        "Concept 1:"
       ]
      },
      {
       "output_type": "stream",
       "stream": "stdout",
       "text": [
        "\n",
        "posting\n",
        "well\n",
        "game\n",
        "university\n",
        "big\n",
        "hit\n",
        "netcom\n",
        "000 000 74\n",
        "clutch\n",
        "lot\n",
        " \n",
        "Concept 2:"
       ]
      },
      {
       "output_type": "stream",
       "stream": "stdout",
       "text": [
        "\n",
        "edu\n",
        "get\n",
        "could\n",
        "posting host\n",
        "best\n",
        "come\n",
        "university\n",
        "subject\n",
        "stats\n",
        "000 000 151\n",
        " \n",
        "Concept 3:"
       ]
      },
      {
       "output_type": "stream",
       "stream": "stdout",
       "text": [
        "\n",
        "edu\n",
        "team\n",
        "anyone\n",
        "runs\n",
        "last\n",
        "roger\n",
        "subject\n",
        "many\n",
        "university\n",
        "lines\n",
        " \n",
        "Concept 4:"
       ]
      },
      {
       "output_type": "stream",
       "stream": "stdout",
       "text": [
        "\n",
        "writes\n",
        "season\n",
        "get\n",
        "go\n",
        "000 000 151\n",
        "might\n",
        "gant\n",
        "clutch\n",
        "roger\n",
        "hirschbeck\n",
        " \n",
        "Concept 5:"
       ]
      },
      {
       "output_type": "stream",
       "stream": "stdout",
       "text": [
        "\n",
        "think\n",
        "could\n",
        "win\n",
        "runs\n",
        "say\n",
        "university\n",
        "well\n",
        "000 006\n",
        "cubs\n",
        "game\n",
        " \n",
        "Concept 6:"
       ]
      },
      {
       "output_type": "stream",
       "stream": "stdout",
       "text": [
        "\n",
        "last\n",
        "team\n",
        "posting host\n",
        "mail\n",
        "000 000 151\n",
        "year\n",
        "well\n",
        "good\n",
        "david\n",
        "posting\n",
        " \n",
        "Concept 7:"
       ]
      },
      {
       "output_type": "stream",
       "stream": "stdout",
       "text": [
        "\n",
        "game\n",
        "games\n",
        "hit\n",
        "posting host\n",
        "roger\n",
        "team\n",
        "braves\n",
        "could\n",
        "still\n",
        "make\n",
        " \n",
        "Concept 8:"
       ]
      },
      {
       "output_type": "stream",
       "stream": "stdout",
       "text": [
        "\n",
        "last\n",
        "games\n",
        "hit\n",
        "game\n",
        "university\n",
        "year\n",
        "runs\n",
        "last year\n",
        "000 000 151\n",
        "would\n",
        " \n",
        "Concept 9:"
       ]
      },
      {
       "output_type": "stream",
       "stream": "stdout",
       "text": [
        "\n",
        "article\n",
        "team\n",
        "would\n",
        "year\n",
        "win\n",
        "lot\n",
        "play\n",
        "hit\n",
        "around\n",
        "roger\n",
        " \n",
        "Concept 10:"
       ]
      },
      {
       "output_type": "stream",
       "stream": "stdout",
       "text": [
        "\n",
        "subject\n",
        "would\n",
        "games\n",
        "baseball\n",
        "home\n",
        "two\n",
        "see\n",
        "day\n",
        "posting host\n",
        "give\n",
        " \n",
        "Concept 11:"
       ]
      },
      {
       "output_type": "stream",
       "stream": "stdout",
       "text": [
        "\n",
        "team\n",
        "host\n",
        "time\n",
        "subject\n",
        "two\n",
        "first\n",
        "even\n",
        "posting host\n",
        "years\n",
        "organization\n",
        " \n",
        "Concept 12:"
       ]
      },
      {
       "output_type": "stream",
       "stream": "stdout",
       "text": [
        "\n",
        "year\n",
        "better\n",
        "team\n",
        "hit\n",
        "could\n",
        "time\n",
        "000 000 kasai\n",
        "hitting\n",
        "best\n",
        "always\n",
        " \n",
        "Concept 13:"
       ]
      },
      {
       "output_type": "stream",
       "stream": "stdout",
       "text": [
        "\n",
        "year\n",
        "organization\n",
        "first\n",
        "edu\n",
        "subject\n",
        "know\n",
        "players\n",
        "000 006\n",
        "like\n",
        "season\n",
        " \n",
        "Concept 14:"
       ]
      },
      {
       "output_type": "stream",
       "stream": "stdout",
       "text": [
        "\n",
        "would\n",
        "article\n",
        "season\n",
        "game\n",
        "last\n",
        "say\n",
        "fans\n",
        "still\n",
        "ll\n",
        "go\n",
        " \n",
        "Concept 15:"
       ]
      },
      {
       "output_type": "stream",
       "stream": "stdout",
       "text": [
        "\n",
        "edu\n",
        "like\n",
        "players\n",
        "get\n",
        "ll\n",
        "play\n",
        "team\n",
        "two\n",
        "better\n",
        "time\n",
        " \n",
        "Concept 16:"
       ]
      },
      {
       "output_type": "stream",
       "stream": "stdout",
       "text": [
        "\n",
        "one\n",
        "posting\n",
        "win\n",
        "edu\n",
        "know\n",
        "last\n",
        "big\n",
        "lines\n",
        "people\n",
        "give\n",
        " \n",
        "Concept 17:"
       ]
      },
      {
       "output_type": "stream",
       "stream": "stdout",
       "text": [
        "\n",
        "win\n",
        "get\n",
        "players\n",
        "000 006\n",
        "organization\n",
        "posting\n",
        "one\n",
        "news\n",
        "games\n",
        "000 000 000\n",
        " \n",
        "Concept 18:"
       ]
      },
      {
       "output_type": "stream",
       "stream": "stdout",
       "text": [
        "\n",
        "university\n",
        "000 006\n",
        "organization\n",
        "two\n",
        "know\n",
        "posting\n",
        "even\n",
        "posting host\n",
        "000 000 067\n",
        "players\n",
        " \n",
        "Concept 19:"
       ]
      },
      {
       "output_type": "stream",
       "stream": "stdout",
       "text": [
        "\n",
        "year\n",
        "time\n",
        "subject\n",
        "posting\n",
        "get\n",
        "writes\n",
        "000 000 kasai\n",
        "article\n",
        "000 000 74\n",
        "posting host\n",
        " \n",
        "Concept 20:"
       ]
      },
      {
       "output_type": "stream",
       "stream": "stdout",
       "text": [
        "\n",
        "000\n",
        "game\n",
        "team\n",
        "subject\n",
        "would\n",
        "000 006\n",
        "000 000 151\n",
        "000 000 74\n",
        "organization\n",
        "go\n",
        " \n",
        "Concept 21:"
       ]
      },
      {
       "output_type": "stream",
       "stream": "stdout",
       "text": [
        "\n",
        "get\n",
        "host\n",
        "runs\n",
        "hit\n",
        "000 000 74\n",
        "play\n",
        "000 000 didn\n",
        "make\n",
        "organization university\n",
        "news\n",
        " \n",
        "Concept 22:"
       ]
      },
      {
       "output_type": "stream",
       "stream": "stdout",
       "text": [
        "\n",
        "000\n",
        "000 000\n",
        "lines\n",
        "000 000 000\n",
        "university\n",
        "think\n",
        "000 000 next\n",
        "000 000 didn\n",
        "well\n",
        "season\n",
        " \n",
        "Concept 23:"
       ]
      },
      {
       "output_type": "stream",
       "stream": "stdout",
       "text": [
        "\n",
        "posting\n",
        "000 000 seattle\n",
        "000 000 didn\n",
        "games\n",
        "000 006\n",
        "baseball\n",
        "would\n",
        "000 000 151\n",
        "players\n",
        "host\n",
        " \n",
        "Concept 24:"
       ]
      },
      {
       "output_type": "stream",
       "stream": "stdout",
       "text": [
        "\n",
        "000\n",
        "article\n",
        "writes\n",
        "edu\n",
        "much\n",
        "000 000 000\n",
        "organization\n",
        "hitter\n",
        "posting\n",
        "two\n",
        " \n",
        "Concept 25:"
       ]
      },
      {
       "output_type": "stream",
       "stream": "stdout",
       "text": [
        "\n",
        "article\n",
        "game\n",
        "like\n",
        "time\n",
        "000 000 151\n",
        "000 000 kasai\n",
        "see\n",
        "last\n",
        "player\n",
        "best\n",
        " \n",
        "Concept 26:"
       ]
      },
      {
       "output_type": "stream",
       "stream": "stdout",
       "text": [
        "\n",
        "000 000 assuming\n",
        "000 000 seattle\n",
        "organization\n",
        "000 006\n",
        "think\n",
        "lines\n",
        "000 000 000\n",
        "players\n",
        "edu\n",
        "season\n",
        " \n"
       ]
      }
     ],
     "prompt_number": 60
    },
    {
     "cell_type": "code",
     "collapsed": false,
     "input": [],
     "language": "python",
     "metadata": {},
     "outputs": [],
     "prompt_number": 60
    },
    {
     "cell_type": "code",
     "collapsed": false,
     "input": [],
     "language": "python",
     "metadata": {},
     "outputs": []
    }
   ],
   "metadata": {}
  }
 ]
}