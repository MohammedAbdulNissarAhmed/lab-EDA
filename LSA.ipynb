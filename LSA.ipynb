{
 "metadata": {
  "name": "",
  "signature": "sha256:2694626e145d5a70cf081a77388c0f90c9eada6ea30227d9ad34e02d62b5097d"
 },
 "nbformat": 3,
 "nbformat_minor": 0,
 "worksheets": [
  {
   "cells": [
    {
     "cell_type": "code",
     "collapsed": false,
     "input": [
      "from sklearn.datasets import fetch_20newsgroups\n",
      "categories = ['rec.sport.baseball']\n",
      "dataset = fetch_20newsgroups(subset='all',shuffle=True, random_state=42, categories=categories)\n",
      "corpus = dataset.data"
     ],
     "language": "python",
     "metadata": {},
     "outputs": [],
     "prompt_number": 2
    },
    {
     "cell_type": "code",
     "collapsed": false,
     "input": [
      "from bs4 import BeautifulSoup\n",
      "import nltk\n",
      "from nltk.corpus import stopwords\n",
      "from sklearn.feature_extraction.text import TfidfVectorizer\n",
      "from sklearn.decomposition import TruncatedSVD"
     ],
     "language": "python",
     "metadata": {},
     "outputs": [],
     "prompt_number": 3
    },
    {
     "cell_type": "code",
     "collapsed": false,
     "input": [
      "nltk.download('stopwords')"
     ],
     "language": "python",
     "metadata": {},
     "outputs": [
      {
       "output_type": "stream",
       "stream": "stdout",
       "text": [
        "[nltk_data] Downloading package stopwords to\n",
        "[nltk_data]     C:\\Users\\NISSAR\\AppData\\Roaming\\nltk_data...\n",
        "[nltk_data]   Unzipping corpora\\stopwords.zip."
       ]
      },
      {
       "output_type": "stream",
       "stream": "stdout",
       "text": [
        "\n"
       ]
      },
      {
       "metadata": {},
       "output_type": "pyout",
       "prompt_number": 4,
       "text": [
        "True"
       ]
      }
     ],
     "prompt_number": 4
    },
    {
     "cell_type": "code",
     "collapsed": false,
     "input": [
      "corpus[0]"
     ],
     "language": "python",
     "metadata": {},
     "outputs": [
      {
       "metadata": {},
       "output_type": "pyout",
       "prompt_number": 5,
       "text": [
        "u\"From: writingctr@leo.bsuvc.bsu.edu\\nSubject: Re: CUB fever.\\nOrganization: Ball State University, Muncie, In - Univ. Computing Svc's\\nLines: 21\\n\\n\\nIn article <kingoz.735285670@camelot>, kingoz@camelot.bradley.edu (Orin Roth) writes:\\n> \\n>    CUB fever is hitting me again. I'm beginning to think they have a \\n>    chance this year. (what the heck am i thinking?)\\n>    Sorry. Just a moment of incompetence.\\n>    I'll be ok. Really. \\n>    Orin.\\n>    Bradley U.\\n> \\n> --\\n> I'm really a jester in disguise!                                   \\nI hear ya!  Then again, we must remember that we are indeed Cub fans, and\\nthat the Cubs will eventually blow it.  After all, the Cubs are the easiest\\nteam in the National League to root for.  No Pressure.  You know they will\\nlose eventually.  Oh well, I suppose we must have faith.  After all, they\\ndo look pretty good, and they don't even have Sandberg back yet.  \\n\\nCUBS IN '93!!!!!\\n\\nCHA\\n\""
       ]
      }
     ],
     "prompt_number": 5
    },
    {
     "cell_type": "code",
     "collapsed": false,
     "input": [
      "stopset = set(stopwords.words('english'))\n",
      "stopset.update(['lt','p','/p','br','amp','quot','field','font','normal','span','0px','rgb','style','51', \n",
      "                'spacing','text','helvetica','size','family', 'space', 'arial', 'height', 'indent', 'letter'\n",
      "                'line','none','sans','serif','transform','line','variant','weight','times', 'new','strong', 'video', 'title'\n",
      "                'white','word','letter', 'roman','0pt','16','color','12','14','21', 'neue', 'apple', 'class',  ])"
     ],
     "language": "python",
     "metadata": {},
     "outputs": [],
     "prompt_number": 6
    },
    {
     "cell_type": "code",
     "collapsed": false,
     "input": [
      "#before\n",
      "corpus[0]"
     ],
     "language": "python",
     "metadata": {},
     "outputs": [
      {
       "metadata": {},
       "output_type": "pyout",
       "prompt_number": 7,
       "text": [
        "u\"From: writingctr@leo.bsuvc.bsu.edu\\nSubject: Re: CUB fever.\\nOrganization: Ball State University, Muncie, In - Univ. Computing Svc's\\nLines: 21\\n\\n\\nIn article <kingoz.735285670@camelot>, kingoz@camelot.bradley.edu (Orin Roth) writes:\\n> \\n>    CUB fever is hitting me again. I'm beginning to think they have a \\n>    chance this year. (what the heck am i thinking?)\\n>    Sorry. Just a moment of incompetence.\\n>    I'll be ok. Really. \\n>    Orin.\\n>    Bradley U.\\n> \\n> --\\n> I'm really a jester in disguise!                                   \\nI hear ya!  Then again, we must remember that we are indeed Cub fans, and\\nthat the Cubs will eventually blow it.  After all, the Cubs are the easiest\\nteam in the National League to root for.  No Pressure.  You know they will\\nlose eventually.  Oh well, I suppose we must have faith.  After all, they\\ndo look pretty good, and they don't even have Sandberg back yet.  \\n\\nCUBS IN '93!!!!!\\n\\nCHA\\n\""
       ]
      }
     ],
     "prompt_number": 7
    },
    {
     "cell_type": "code",
     "collapsed": false,
     "input": [
      "vectorizer = TfidfVectorizer(stop_words=stopset,\n",
      "                                 use_idf=True, ngram_range=(1, 3))\n",
      "X = vectorizer.fit_transform(corpus)"
     ],
     "language": "python",
     "metadata": {},
     "outputs": [],
     "prompt_number": 8
    },
    {
     "cell_type": "code",
     "collapsed": false,
     "input": [
      "X[0]"
     ],
     "language": "python",
     "metadata": {},
     "outputs": [
      {
       "metadata": {},
       "output_type": "pyout",
       "prompt_number": 10,
       "text": [
        "<1x190159 sparse matrix of type '<type 'numpy.float64'>'\n",
        "\twith 235 stored elements in Compressed Sparse Row format>"
       ]
      }
     ],
     "prompt_number": 10
    },
    {
     "cell_type": "code",
     "collapsed": false,
     "input": [
      "#After\n",
      "print X[0]"
     ],
     "language": "python",
     "metadata": {},
     "outputs": [
      {
       "output_type": "stream",
       "stream": "stdout",
       "text": [
        "  (0, 51460)\t0.0734463096625\n",
        "  (0, 189431)\t0.0734463096625\n",
        "  (0, 28954)\t0.0734463096625\n",
        "  (0, 146556)\t0.0734463096625\n",
        "  (0, 64407)\t0.0734463096625\n",
        "  (0, 77917)\t0.0734463096625\n",
        "  (0, 133158)\t0.0734463096625\n",
        "  (0, 103424)\t0.0734463096625\n",
        "  (0, 66793)\t0.0734463096625\n",
        "  (0, 114520)\t0.0734463096625\n",
        "  (0, 163261)\t0.0734463096625\n",
        "  (0, 181100)\t0.0734463096625\n",
        "  (0, 119624)\t0.0734463096625\n",
        "  (0, 64543)\t0.0734463096625\n",
        "  (0, 103918)\t0.0734463096625\n",
        "  (0, 95532)\t0.0734463096625\n",
        "  (0, 133073)\t0.0734463096625\n",
        "  (0, 143720)\t0.0734463096625\n",
        "  (0, 98126)\t0.0734463096625\n",
        "  (0, 115161)\t0.0734463096625\n",
        "  (0, 165620)\t0.0734463096625\n",
        "  (0, 59664)\t0.0734463096625\n",
        "  (0, 51500)\t0.0734463096625\n",
        "  (0, 35721)\t0.0734463096625\n",
        "  (0, 64533)\t0.0734463096625\n",
        "  :\t:\n",
        "  (0, 143954)\t0.0551931192048\n",
        "  (0, 122291)\t0.11038623841\n",
        "  (0, 37510)\t0.0989842910659\n",
        "  (0, 40680)\t0.104524831508\n",
        "  (0, 16529)\t0.0734463096625\n",
        "  (0, 94943)\t0.11038623841\n",
        "  (0, 25779)\t0.0160794683389\n",
        "  (0, 100805)\t0.010248916482\n",
        "  (0, 163850)\t0.0606840380211\n",
        "  (0, 48144)\t0.0387972930629\n",
        "  (0, 175254)\t0.0391426583255\n",
        "  (0, 114318)\t0.0606840380211\n",
        "  (0, 175290)\t0.0179368326547\n",
        "  (0, 159024)\t0.0372269139097\n",
        "  (0, 29476)\t0.0306118463788\n",
        "  (0, 121678)\t0.0102695385529\n",
        "  (0, 68334)\t0.124508834349\n",
        "  (0, 51382)\t0.160868220155\n",
        "  (0, 137192)\t0.0126673855948\n",
        "  (0, 161824)\t0.0101872995629\n",
        "  (0, 60164)\t0.023728059338\n",
        "  (0, 38750)\t0.0505117257066\n",
        "  (0, 38760)\t0.0505117257066\n",
        "  (0, 99152)\t0.0494921455329\n",
        "  (0, 186930)\t0.0734463096625\n"
       ]
      }
     ],
     "prompt_number": 11
    },
    {
     "cell_type": "code",
     "collapsed": false,
     "input": [
      "X.shape"
     ],
     "language": "python",
     "metadata": {},
     "outputs": [
      {
       "metadata": {},
       "output_type": "pyout",
       "prompt_number": 12,
       "text": [
        "(994, 190159)"
       ]
      }
     ],
     "prompt_number": 12
    },
    {
     "cell_type": "code",
     "collapsed": false,
     "input": [
      "lsa = TruncatedSVD(n_components=27, n_iter=100)\n",
      "lsa.fit(X)"
     ],
     "language": "python",
     "metadata": {},
     "outputs": [
      {
       "metadata": {},
       "output_type": "pyout",
       "prompt_number": 20,
       "text": [
        "TruncatedSVD(algorithm='randomized', n_components=27, n_iter=100,\n",
        "       random_state=None, tol=0.0)"
       ]
      }
     ],
     "prompt_number": 20
    },
    {
     "cell_type": "code",
     "collapsed": false,
     "input": [
      "lsa.components_[0]"
     ],
     "language": "python",
     "metadata": {},
     "outputs": [
      {
       "metadata": {},
       "output_type": "pyout",
       "prompt_number": 21,
       "text": [
        "array([ 0.01601607,  0.00499136,  0.0008138 , ...,  0.00102587,\n",
        "        0.00102587,  0.00102587])"
       ]
      }
     ],
     "prompt_number": 21
    },
    {
     "cell_type": "code",
     "collapsed": false,
     "input": [
      "terms = vectorizer.get_feature_names()\n",
      "for i, comp in enumerate(lsa.components_): \n",
      "    termsInComp = zip (terms,comp)\n",
      "    sortedTerms =  sorted(termsInComp, key=lambda x: x[1], reverse=True) [:10]\n",
      "    print \"Concept %d:\" % i\n",
      "    for term in sortedTerms:\n",
      "        print term[0]\n",
      "    print \" \""
     ],
     "language": "python",
     "metadata": {},
     "outputs": [
      {
       "output_type": "stream",
       "stream": "stdout",
       "text": [
        "Concept 0:\n",
        "edu\n",
        "com\n",
        "year\n",
        "writes\n",
        "team\n",
        "would\n",
        "game\n",
        "article\n",
        "re\n",
        "cs\n",
        " \n",
        "Concept 1:"
       ]
      },
      {
       "output_type": "stream",
       "stream": "stdout",
       "text": [
        "\n",
        "com\n",
        "games\n",
        "hit\n",
        "well\n",
        "year\n",
        "host\n",
        "get\n",
        "00 00 chicago\n",
        "much\n",
        "bonds\n",
        " \n",
        "Concept 2:"
       ]
      },
      {
       "output_type": "stream",
       "stream": "stdout",
       "text": [
        "\n",
        "edu\n",
        "lines\n",
        "00 00 000\n",
        "much\n",
        "better\n",
        "article\n",
        "00\n",
        "season\n",
        "think\n",
        "nntp\n",
        " \n",
        "Concept 3:"
       ]
      },
      {
       "output_type": "stream",
       "stream": "stdout",
       "text": [
        "\n",
        "edu\n",
        "university\n",
        "morris\n",
        "host\n",
        "think\n",
        "00 00 baltimore\n",
        "article\n",
        "re\n",
        "better\n",
        "colorado\n",
        " \n",
        "Concept 4:"
       ]
      },
      {
       "output_type": "stream",
       "stream": "stdout",
       "text": [
        "\n",
        "would\n",
        "com\n",
        "players\n",
        "cs\n",
        "runs\n",
        "time\n",
        "league\n",
        "re\n",
        "00 00 000\n",
        "gant\n",
        " \n",
        "Concept 5:"
       ]
      },
      {
       "output_type": "stream",
       "stream": "stdout",
       "text": [
        "\n",
        "00\n",
        "00 00\n",
        "00 00 00\n",
        "00 00 000\n",
        "com\n",
        "players\n",
        "time\n",
        "david\n",
        "00 00 cleveland\n",
        "mike\n",
        " \n",
        "Concept 6:"
       ]
      },
      {
       "output_type": "stream",
       "stream": "stdout",
       "text": [
        "\n",
        "00\n",
        "00 00\n",
        "year\n",
        "first\n",
        "distribution\n",
        "00 00 baltimore\n",
        "league\n",
        "could\n",
        "team\n",
        "00 00 00\n",
        " \n",
        "Concept 7:"
       ]
      },
      {
       "output_type": "stream",
       "stream": "stdout",
       "text": [
        "\n",
        "players\n",
        "com\n",
        "good\n",
        "hit\n",
        "know\n",
        "win\n",
        "hitter\n",
        "best\n",
        "braves\n",
        "distribution\n",
        " \n",
        "Concept 8:"
       ]
      },
      {
       "output_type": "stream",
       "stream": "stdout",
       "text": [
        "\n",
        "well\n",
        "better\n",
        "posting\n",
        "00 00 chicago\n",
        "game\n",
        "nntp posting host\n",
        "posting host\n",
        "year\n",
        "say\n",
        "00 00 01\n",
        " \n",
        "Concept 9:"
       ]
      },
      {
       "output_type": "stream",
       "stream": "stdout",
       "text": [
        "\n",
        "cs\n",
        "much\n",
        "season\n",
        "see\n",
        "first\n",
        "baseball\n",
        "also\n",
        "edu\n",
        "00 00 chicago\n",
        "base\n",
        " \n",
        "Concept 10:"
       ]
      },
      {
       "output_type": "stream",
       "stream": "stdout",
       "text": [
        "\n",
        "year\n",
        "good\n",
        "last\n",
        "posting\n",
        "games\n",
        "runs\n",
        "subject re\n",
        "go\n",
        "hit\n",
        "could\n",
        " \n",
        "Concept 11:"
       ]
      },
      {
       "output_type": "stream",
       "stream": "stdout",
       "text": [
        "\n",
        "00 00 baltimore\n",
        "think\n",
        "last\n",
        "00 00 colorado\n",
        "posting\n",
        "00 00 cleveland\n",
        "pitching\n",
        "also\n",
        "runs\n",
        "anyone\n",
        " \n",
        "Concept 12:"
       ]
      },
      {
       "output_type": "stream",
       "stream": "stdout",
       "text": [
        "\n",
        "year\n",
        "first\n",
        "like\n",
        "article\n",
        "would\n",
        "00 00 gmt\n",
        "back\n",
        "edu\n",
        "team\n",
        "subject re\n",
        " \n",
        "Concept 13:"
       ]
      },
      {
       "output_type": "stream",
       "stream": "stdout",
       "text": [
        "\n",
        "article\n",
        "best\n",
        "players\n",
        "baseball\n",
        "00 00 baltimore\n",
        "edu\n",
        "team\n",
        "00 00 detroit\n",
        "00 00 american\n",
        "reply\n",
        " \n",
        "Concept 14:"
       ]
      },
      {
       "output_type": "stream",
       "stream": "stdout",
       "text": [
        "\n",
        "game\n",
        "baseball\n",
        "games\n",
        "ca\n",
        "00 00 000\n",
        "news\n",
        "say\n",
        "back\n",
        "would\n",
        "many\n",
        " \n",
        "Concept 15:"
       ]
      },
      {
       "output_type": "stream",
       "stream": "stdout",
       "text": [
        "\n",
        "00 00 chicago\n",
        "would\n",
        "edu\n",
        "know\n",
        "game\n",
        "nntp posting host\n",
        "posting host\n",
        "00 00 gmt\n",
        "nntp posting\n",
        "way\n",
        " \n",
        "Concept 16:"
       ]
      },
      {
       "output_type": "stream",
       "stream": "stdout",
       "text": [
        "\n",
        "team\n",
        "good\n",
        "win\n",
        "runs\n",
        "say\n",
        "ll\n",
        "years\n",
        "cs\n",
        "00 00 baltimore\n",
        "would\n",
        " \n",
        "Concept 17:"
       ]
      },
      {
       "output_type": "stream",
       "stream": "stdout",
       "text": [
        "\n",
        "game\n",
        "win\n",
        "players\n",
        "two\n",
        "player\n",
        "re\n",
        "better\n",
        "00 00 cleveland\n",
        "00 00 baltimore\n",
        "article\n",
        " \n",
        "Concept 18:"
       ]
      },
      {
       "output_type": "stream",
       "stream": "stdout",
       "text": [
        "\n",
        "hit\n",
        "university\n",
        "much\n",
        "would\n",
        "even\n",
        "world\n",
        "posting\n",
        "anyone\n",
        "games\n",
        "people\n",
        " \n",
        "Concept 19:"
       ]
      },
      {
       "output_type": "stream",
       "stream": "stdout",
       "text": [
        "\n",
        "00 00 gmt\n",
        "year\n",
        "good\n",
        "game\n",
        "host\n",
        "00 00 cleveland\n",
        "made\n",
        "games\n",
        "edu\n",
        "league\n",
        " \n",
        "Concept 20:"
       ]
      },
      {
       "output_type": "stream",
       "stream": "stdout",
       "text": [
        "\n",
        "game\n",
        "university\n",
        "nntp\n",
        "article\n",
        "nntp posting host\n",
        "posting host\n",
        "cs\n",
        "first\n",
        "subject\n",
        "organization\n",
        " \n",
        "Concept 21:"
       ]
      },
      {
       "output_type": "stream",
       "stream": "stdout",
       "text": [
        "\n",
        "re\n",
        "team\n",
        "lines\n",
        "00 00 american\n",
        "nntp posting\n",
        "00 00 cleveland\n",
        "nntp\n",
        "00 00 000\n",
        "nntp posting host\n",
        "posting host\n",
        " \n",
        "Concept 22:"
       ]
      },
      {
       "output_type": "stream",
       "stream": "stdout",
       "text": [
        "\n",
        "would\n",
        "00 00 american\n",
        "article\n",
        "00 00 chicago\n",
        "00 00 cleveland\n",
        "one\n",
        "better\n",
        "league\n",
        "back\n",
        "re\n",
        " \n",
        "Concept 23:"
       ]
      },
      {
       "output_type": "stream",
       "stream": "stdout",
       "text": [
        "\n",
        "subject\n",
        "re\n",
        "time\n",
        "writes\n",
        "00 00 baltimore\n",
        "00 00 colorado\n",
        "league\n",
        "season\n",
        "know\n",
        "10\n",
        " \n",
        "Concept 24:"
       ]
      },
      {
       "output_type": "stream",
       "stream": "stdout",
       "text": [
        "\n",
        "article\n",
        "subject re\n",
        "writes\n",
        "good\n",
        "game\n",
        "00 00 chicago\n",
        "like\n",
        "re\n",
        "braves\n",
        "jewish\n",
        " \n",
        "Concept 25:"
       ]
      },
      {
       "output_type": "stream",
       "stream": "stdout",
       "text": [
        "\n",
        "00 00 american\n",
        "00 00 cleveland\n",
        "like\n",
        "university\n",
        "lines\n",
        "00 00 chicago\n",
        "baseball\n",
        "many\n",
        "even\n",
        "host\n",
        " \n",
        "Concept 26:"
       ]
      },
      {
       "output_type": "stream",
       "stream": "stdout",
       "text": [
        "\n",
        "00 00 detroit\n",
        "lines\n",
        "games\n",
        "would\n",
        "posting\n",
        "00 00 colorado\n",
        "article\n",
        "like\n",
        "last\n",
        "nntp posting\n",
        " \n"
       ]
      }
     ],
     "prompt_number": 22
    },
    {
     "cell_type": "code",
     "collapsed": false,
     "input": [],
     "language": "python",
     "metadata": {},
     "outputs": []
    }
   ],
   "metadata": {}
  }
 ]
}